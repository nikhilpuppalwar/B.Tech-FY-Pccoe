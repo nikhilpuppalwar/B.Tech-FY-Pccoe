{
 "cells": [
  {
   "cell_type": "code",
   "execution_count": 1,
   "id": "5ad43590",
   "metadata": {},
   "outputs": [
    {
     "name": "stdout",
     "output_type": "stream",
     "text": [
      "4\n",
      "3\n",
      "2\n",
      "1\n",
      "0\n"
     ]
    }
   ],
   "source": [
    "countdown = [4,3,2,1,0]\n",
    "for number in countdown:\n",
    "    print(number)"
   ]
  },
  {
   "cell_type": "code",
   "execution_count": 3,
   "id": "954e55f2",
   "metadata": {},
   "outputs": [
    {
     "name": "stdout",
     "output_type": "stream",
     "text": [
      "4\n",
      "3\n",
      "2\n",
      "1\n",
      "0\n"
     ]
    }
   ],
   "source": [
    "from time import sleep\n",
    "countdown = [4,3,2,1,0]\n",
    "for number in countdown:\n",
    "    print(number)\n",
    "    sleep(2) # sleep is use fior time delay"
   ]
  },
  {
   "cell_type": "code",
   "execution_count": 5,
   "id": "39cad23b",
   "metadata": {},
   "outputs": [
    {
     "name": "stdout",
     "output_type": "stream",
     "text": [
      "10\n",
      "12\n",
      "14\n",
      "16\n",
      "18\n"
     ]
    }
   ],
   "source": [
    "for i in range(10,20,2):\n",
    "    print(i)"
   ]
  },
  {
   "cell_type": "code",
   "execution_count": 7,
   "id": "70de82f5",
   "metadata": {},
   "outputs": [
    {
     "name": "stdout",
     "output_type": "stream",
     "text": [
      "0\n",
      "1\n",
      "2\n",
      "3\n",
      "4\n",
      "5\n",
      "6\n",
      "7\n",
      "8\n",
      "9\n"
     ]
    }
   ],
   "source": [
    "for i in range(50):\n",
    "    if i==10:\n",
    "        break\n",
    "    print(i)"
   ]
  },
  {
   "cell_type": "code",
   "execution_count": 9,
   "id": "e0ad75f2",
   "metadata": {},
   "outputs": [
    {
     "name": "stdout",
     "output_type": "stream",
     "text": [
      "0\n",
      "1\n",
      "3\n",
      "4\n"
     ]
    }
   ],
   "source": [
    "for i in range(5):\n",
    "    if i == 2:\n",
    "        continue # except 2 that means 2 will remove\n",
    "    print(i)"
   ]
  },
  {
   "cell_type": "code",
   "execution_count": 14,
   "id": "06e35534",
   "metadata": {},
   "outputs": [
    {
     "data": {
      "text/plain": [
       "'238,855'"
      ]
     },
     "execution_count": 14,
     "metadata": {},
     "output_type": "execute_result"
    }
   ],
   "source": [
    "def distance_from_earth(destination):\n",
    "    if destination ==\"moon\":\n",
    "        return \"238,855\"\n",
    "    else:\n",
    "        return \"unable to compute to that destination\"\n",
    "distance_from_earth(\"moon\")"
   ]
  },
  {
   "cell_type": "code",
   "execution_count": 15,
   "id": "18cfef80",
   "metadata": {},
   "outputs": [
    {
     "name": "stdout",
     "output_type": "stream",
     "text": [
      "Collecting package metadata (current_repodata.json): ...working... done\n",
      "Note: you may need to restart the kernel to use updated packages.\n"
     ]
    },
    {
     "name": "stderr",
     "output_type": "stream",
     "text": [
      "\n",
      "\n",
      "==> WARNING: A newer version of conda exists. <==\n",
      "  current version: 23.7.4\n",
      "  latest version: 23.11.0\n",
      "\n",
      "Please update conda by running\n",
      "\n",
      "    $ conda update -n base -c defaults conda\n",
      "\n",
      "Or to minimize the number of packages updated during conda update use\n",
      "\n",
      "     conda install conda=23.11.0\n",
      "\n",
      "\n"
     ]
    },
    {
     "name": "stdout",
     "output_type": "stream",
     "text": [
      "\n",
      "Solving environment: ...working... done\n",
      "\n",
      "## Package Plan ##\n",
      "\n",
      "  environment location: C:\\Users\\ASUS\\anaconda3\n",
      "\n",
      "  added / updated specs:\n",
      "    - numpy\n",
      "\n",
      "\n",
      "The following packages will be downloaded:\n",
      "\n",
      "    package                    |            build\n",
      "    ---------------------------|-----------------\n",
      "    ca-certificates-2023.12.12 |       haa95532_0         127 KB\n",
      "    certifi-2023.11.17         |  py311haa95532_0         160 KB\n",
      "    openssl-3.0.12             |       h2bbff1b_0         7.4 MB\n",
      "    ------------------------------------------------------------\n",
      "                                           Total:         7.7 MB\n",
      "\n",
      "The following packages will be UPDATED:\n",
      "\n",
      "  ca-certificates                     2023.08.22-haa95532_0 --> 2023.12.12-haa95532_0 \n",
      "  certifi                         2023.7.22-py311haa95532_0 --> 2023.11.17-py311haa95532_0 \n",
      "  openssl                                 3.0.10-h2bbff1b_2 --> 3.0.12-h2bbff1b_0 \n",
      "\n",
      "\n",
      "\n",
      "Downloading and Extracting Packages\n",
      "\n",
      "ca-certificates-2023 | 127 KB    |            |   0% \n",
      "\n",
      "certifi-2023.11.17   | 160 KB    |            |   0% \u001b[A\n",
      "\n",
      "\n",
      "openssl-3.0.12       | 7.4 MB    |            |   0% \u001b[A\u001b[A\n",
      "\n",
      "certifi-2023.11.17   | 160 KB    | #          |  10% \u001b[A\n",
      "\n",
      "certifi-2023.11.17   | 160 KB    | ######     |  60% \u001b[A\n",
      "ca-certificates-2023 | 127 KB    | #2         |  13% \n",
      "\n",
      "\n",
      "openssl-3.0.12       | 7.4 MB    |            |   0% \u001b[A\u001b[A\n",
      "\n",
      "certifi-2023.11.17   | 160 KB    | ########## | 100% \u001b[A\n",
      "\n",
      "certifi-2023.11.17   | 160 KB    | ########## | 100% \u001b[A\n",
      "ca-certificates-2023 | 127 KB    | #######5   |  76% \n",
      "ca-certificates-2023 | 127 KB    | ########## | 100% \n",
      "\n",
      "\n",
      "openssl-3.0.12       | 7.4 MB    | 1          |   1% \u001b[A\u001b[A\n",
      "\n",
      "\n",
      "openssl-3.0.12       | 7.4 MB    | 2          |   2% \u001b[A\u001b[A\n",
      "\n",
      "\n",
      "openssl-3.0.12       | 7.4 MB    | 3          |   4% \u001b[A\u001b[A\n",
      "\n",
      "\n",
      "openssl-3.0.12       | 7.4 MB    | 6          |   7% \u001b[A\u001b[A\n",
      "\n",
      "\n",
      "openssl-3.0.12       | 7.4 MB    | 8          |   8% \u001b[A\u001b[A\n",
      "\n",
      "\n",
      "openssl-3.0.12       | 7.4 MB    | #          |  10% \u001b[A\u001b[A\n",
      "\n",
      "\n",
      "openssl-3.0.12       | 7.4 MB    | #2         |  12% \u001b[A\u001b[A\n",
      "\n",
      "\n",
      "openssl-3.0.12       | 7.4 MB    | #6         |  16% \u001b[A\u001b[A\n",
      "\n",
      "\n",
      "openssl-3.0.12       | 7.4 MB    | #8         |  18% \u001b[A\u001b[A\n",
      "\n",
      "\n",
      "openssl-3.0.12       | 7.4 MB    | ##         |  20% \u001b[A\u001b[A\n",
      "\n",
      "\n",
      "openssl-3.0.12       | 7.4 MB    | ##2        |  22% \u001b[A\u001b[A\n",
      "\n",
      "\n",
      "openssl-3.0.12       | 7.4 MB    | ##4        |  24% \u001b[A\u001b[A\n",
      "\n",
      "\n",
      "openssl-3.0.12       | 7.4 MB    | ##5        |  26% \u001b[A\u001b[A\n",
      "\n",
      "\n",
      "openssl-3.0.12       | 7.4 MB    | ##7        |  27% \u001b[A\u001b[A\n",
      "\n",
      "\n",
      "openssl-3.0.12       | 7.4 MB    | ##9        |  29% \u001b[A\u001b[A\n",
      "\n",
      "\n",
      "openssl-3.0.12       | 7.4 MB    | ###1       |  31% \u001b[A\u001b[A\n",
      "\n",
      "\n",
      "openssl-3.0.12       | 7.4 MB    | ###3       |  33% \u001b[A\u001b[A\n",
      "\n",
      "\n",
      "openssl-3.0.12       | 7.4 MB    | ###5       |  35% \u001b[A\u001b[A\n",
      "\n",
      "\n",
      "openssl-3.0.12       | 7.4 MB    | ###7       |  37% \u001b[A\u001b[A\n",
      "\n",
      "\n",
      "openssl-3.0.12       | 7.4 MB    | ###9       |  39% \u001b[A\u001b[A\n",
      "\n",
      "\n",
      "openssl-3.0.12       | 7.4 MB    | ####1      |  41% \u001b[A\u001b[A\n",
      "\n",
      "\n",
      "openssl-3.0.12       | 7.4 MB    | ####3      |  43% \u001b[A\u001b[A\n",
      "\n",
      "\n",
      "openssl-3.0.12       | 7.4 MB    | ####5      |  45% \u001b[A\u001b[A\n",
      "\n",
      "\n",
      "openssl-3.0.12       | 7.4 MB    | ####7      |  47% \u001b[A\u001b[A\n",
      "\n",
      "\n",
      "openssl-3.0.12       | 7.4 MB    | ####9      |  49% \u001b[A\u001b[A\n",
      "\n",
      "\n",
      "openssl-3.0.12       | 7.4 MB    | #####1     |  51% \u001b[A\u001b[A\n",
      "\n",
      "\n",
      "openssl-3.0.12       | 7.4 MB    | #####3     |  53% \u001b[A\u001b[A\n",
      "\n",
      "\n",
      "openssl-3.0.12       | 7.4 MB    | #####5     |  55% \u001b[A\u001b[A\n",
      "\n",
      "\n",
      "openssl-3.0.12       | 7.4 MB    | #####7     |  57% \u001b[A\u001b[A\n",
      "\n",
      "\n",
      "openssl-3.0.12       | 7.4 MB    | ######     |  60% \u001b[A\u001b[A\n",
      "\n",
      "\n",
      "openssl-3.0.12       | 7.4 MB    | ######2    |  62% \u001b[A\u001b[A\n",
      "\n",
      "\n",
      "openssl-3.0.12       | 7.4 MB    | ######4    |  65% \u001b[A\u001b[A\n",
      "\n",
      "\n",
      "openssl-3.0.12       | 7.4 MB    | ######6    |  67% \u001b[A\u001b[A\n",
      "\n",
      "\n",
      "openssl-3.0.12       | 7.4 MB    | ######8    |  69% \u001b[A\u001b[A\n",
      "\n",
      "\n",
      "openssl-3.0.12       | 7.4 MB    | #######    |  71% \u001b[A\u001b[A\n",
      "\n",
      "\n",
      "openssl-3.0.12       | 7.4 MB    | #######2   |  72% \u001b[A\u001b[A\n",
      "\n",
      "\n",
      "openssl-3.0.12       | 7.4 MB    | #######5   |  75% \u001b[A\u001b[A\n",
      "\n",
      "\n",
      "openssl-3.0.12       | 7.4 MB    | ########   |  80% \u001b[A\u001b[A\n",
      "\n",
      "\n",
      "openssl-3.0.12       | 7.4 MB    | ########3  |  83% \u001b[A\u001b[A\n",
      "\n",
      "\n",
      "openssl-3.0.12       | 7.4 MB    | ########5  |  85% \u001b[A\u001b[A\n",
      "\n",
      "\n",
      "openssl-3.0.12       | 7.4 MB    | ########7  |  87% \u001b[A\u001b[A\n",
      "\n",
      "\n",
      "openssl-3.0.12       | 7.4 MB    | ########9  |  90% \u001b[A\u001b[A\n",
      "\n",
      "\n",
      "openssl-3.0.12       | 7.4 MB    | #########1 |  92% \u001b[A\u001b[A\n",
      "\n",
      "\n",
      "openssl-3.0.12       | 7.4 MB    | #########3 |  94% \u001b[A\u001b[A\n",
      "\n",
      "\n",
      "openssl-3.0.12       | 7.4 MB    | #########7 |  97% \u001b[A\u001b[A\n",
      "\n",
      "\n",
      "openssl-3.0.12       | 7.4 MB    | #########9 | 100% \u001b[A\u001b[A\n",
      "\n",
      "\n",
      "openssl-3.0.12       | 7.4 MB    | ########## | 100% \u001b[A\u001b[A\n",
      "                                                     \n",
      "\n",
      "\n",
      "                                                     \u001b[A\n",
      "\n",
      "\n",
      "                                                     \u001b[A\u001b[A\n",
      "\n",
      "Preparing transaction: ...working... done\n",
      "Verifying transaction: ...working... done\n",
      "Executing transaction: ...working... done\n"
     ]
    }
   ],
   "source": [
    "conda install numpy\n"
   ]
  },
  {
   "cell_type": "code",
   "execution_count": 19,
   "id": "17144f46",
   "metadata": {},
   "outputs": [
    {
     "name": "stdout",
     "output_type": "stream",
     "text": [
      "[1 2 3 4]\n",
      "[0 0 0]\n",
      "[0 0 0 0]\n"
     ]
    }
   ],
   "source": [
    "import numpy as np\n",
    "a=np.array([1,2,3,4,])\n",
    "print(a)\n",
    "b=np.zeros(3,int)\n",
    "print(b)\n",
    "c=np.zeros_like(a)\n",
    "print(c)"
   ]
  },
  {
   "cell_type": "code",
   "execution_count": 20,
   "id": "d81ed983",
   "metadata": {},
   "outputs": [
    {
     "name": "stdout",
     "output_type": "stream",
     "text": [
      "[ 0  5 10 15 20 25 30 35 40 45 50 55 60 65 70 75 80 85 90 95]\n"
     ]
    }
   ],
   "source": [
    "import numpy as np\n",
    "a=np.arange(0,100,5)\n",
    "print(a)"
   ]
  },
  {
   "cell_type": "code",
   "execution_count": 21,
   "id": "3379dd20",
   "metadata": {},
   "outputs": [
    {
     "data": {
      "text/plain": [
       "array([[ 0,  1,  2,  3],\n",
       "       [ 4,  5,  6,  7],\n",
       "       [ 8,  9, 10, 11]])"
      ]
     },
     "execution_count": 21,
     "metadata": {},
     "output_type": "execute_result"
    }
   ],
   "source": [
    "import numpy as np\n",
    "a=np.arange(12)\n",
    "np.reshape(a,(3,4))"
   ]
  },
  {
   "cell_type": "code",
   "execution_count": 25,
   "id": "4d1951e5",
   "metadata": {},
   "outputs": [
    {
     "name": "stdout",
     "output_type": "stream",
     "text": [
      "[1 4 7 0]\n"
     ]
    }
   ],
   "source": [
    "import numpy as np\n",
    "a=np.arange(12)\n",
    "print(a[[1,4,7,0]])"
   ]
  },
  {
   "cell_type": "code",
   "execution_count": null,
   "id": "93be067e",
   "metadata": {},
   "outputs": [],
   "source": [
    "stop_words = { 'i', 'me', 'my', 'myself', 'we', 'out', 'ours', 'ourselves', 'you', 'your', 'yours', \n",
    "              'yourself', 'yourselves', 'he', 'him', 'his', 'himself', 'she', 'her', 'herself', 'it', \n",
    "              'itself', 'they', 'them', 'their', 'theirs', 'themselves', 'what', 'which', 'who', 'whom', 'this', 'that'}\n",
    "\n",
    "def remove_stopwords(file_path, output_path):\n",
    "    with open(file_path, 'r') as file:\n",
    "        text = file.read()\n",
    "        words = text.split()\n",
    "        filtered_words = [word for word in words if word.lower() not in stop_words]\n",
    "        filtered_text = ' '.join(filtered_words)\n",
    "\n",
    "        with open(output_path, 'w') as output_file:\n",
    "            output_file.write(filtered_text)\n",
    "\n",
    "input_file_path = 'input.txt'\n",
    "output_file_path = 'output.txt'\n",
    "\n",
    "remove_stopwords(input_file_path, output_file_path)\n",
    "print(f'Stop words removed. Results saved to {output_file_path}')\n"
   ]
  }
 ],
 "metadata": {
  "kernelspec": {
   "display_name": "Python 3 (ipykernel)",
   "language": "python",
   "name": "python3"
  },
  "language_info": {
   "codemirror_mode": {
    "name": "ipython",
    "version": 3
   },
   "file_extension": ".py",
   "mimetype": "text/x-python",
   "name": "python",
   "nbconvert_exporter": "python",
   "pygments_lexer": "ipython3",
   "version": "3.11.5"
  }
 },
 "nbformat": 4,
 "nbformat_minor": 5
}
