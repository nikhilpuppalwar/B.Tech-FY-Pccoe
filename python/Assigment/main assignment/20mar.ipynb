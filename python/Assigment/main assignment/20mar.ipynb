{
 "cells": [
  {
   "cell_type": "code",
   "execution_count": 13,
   "id": "7e240f94",
   "metadata": {},
   "outputs": [
    {
     "name": "stdout",
     "output_type": "stream",
     "text": [
      "Contact 'ajay Devgan' added successfully.\n",
      "Contact 'Akshay kumar' added successfully.\n",
      "Contact 'nikhil puppalwar' added successfully.\n",
      "\n",
      "PhoneDirectory:\n"
     ]
    },
    {
     "ename": "KeyError",
     "evalue": "'Phone Number'",
     "output_type": "error",
     "traceback": [
      "\u001b[1;31m---------------------------------------------------------------------------\u001b[0m",
      "\u001b[1;31mKeyError\u001b[0m                                  Traceback (most recent call last)",
      "Cell \u001b[1;32mIn[13], line 22\u001b[0m\n\u001b[0;32m     19\u001b[0m phone_dir\u001b[38;5;241m.\u001b[39madd_contact(\u001b[38;5;124m\"\u001b[39m\u001b[38;5;124mAkshay kumar\u001b[39m\u001b[38;5;124m\"\u001b[39m,\u001b[38;5;241m9876543210\u001b[39m,\u001b[38;5;124m\"\u001b[39m\u001b[38;5;124mAmritsar\u001b[39m\u001b[38;5;124m\"\u001b[39m)\n\u001b[0;32m     20\u001b[0m phone_dir\u001b[38;5;241m.\u001b[39madd_contact(\u001b[38;5;124m\"\u001b[39m\u001b[38;5;124mnikhil puppalwar\u001b[39m\u001b[38;5;124m\"\u001b[39m,\u001b[38;5;241m6543210987\u001b[39m,\u001b[38;5;124m\"\u001b[39m\u001b[38;5;124mPune\u001b[39m\u001b[38;5;124m\"\u001b[39m)\n\u001b[1;32m---> 22\u001b[0m phone_dir\u001b[38;5;241m.\u001b[39mdisplay_directory()\n",
      "Cell \u001b[1;32mIn[13], line 15\u001b[0m, in \u001b[0;36mPhoneDirectory.display_directory\u001b[1;34m(self)\u001b[0m\n\u001b[0;32m     13\u001b[0m \u001b[38;5;28mprint\u001b[39m(\u001b[38;5;124m\"\u001b[39m\u001b[38;5;130;01m\\n\u001b[39;00m\u001b[38;5;124mPhoneDirectory:\u001b[39m\u001b[38;5;124m\"\u001b[39m)\n\u001b[0;32m     14\u001b[0m \u001b[38;5;28;01mfor\u001b[39;00m name,details \u001b[38;5;129;01min\u001b[39;00m \u001b[38;5;28mself\u001b[39m\u001b[38;5;241m.\u001b[39mdirectory\u001b[38;5;241m.\u001b[39mitems():\n\u001b[1;32m---> 15\u001b[0m      \u001b[38;5;28mprint\u001b[39m(\u001b[38;5;124mf\u001b[39m\u001b[38;5;124m\"\u001b[39m\u001b[38;5;124mname:\u001b[39m\u001b[38;5;132;01m{\u001b[39;00mname\u001b[38;5;132;01m}\u001b[39;00m\u001b[38;5;124m,phone number:\u001b[39m\u001b[38;5;132;01m{\u001b[39;00mdetails[\u001b[38;5;124m'\u001b[39m\u001b[38;5;124mPhone Number\u001b[39m\u001b[38;5;124m'\u001b[39m]\u001b[38;5;132;01m}\u001b[39;00m\u001b[38;5;124m,place:[details[\u001b[39m\u001b[38;5;124m'\u001b[39m\u001b[38;5;124mplace\u001b[39m\u001b[38;5;124m'\u001b[39m\u001b[38;5;124m]]\u001b[39m\u001b[38;5;124m\"\u001b[39m)\n",
      "\u001b[1;31mKeyError\u001b[0m: 'Phone Number'"
     ]
    }
   ],
   "source": [
    "\n",
    "class PhoneDirectory:\n",
    "    def __init__(self):\n",
    "        self.directory={}\n",
    "    def add_contact(self,name,phone_number,place):\n",
    "        try:\n",
    "            if not(isinstance(phone_number,int) and len(str(phone_number))==10):\n",
    "                raise ValueError(\"phone number should be 10 digits long.\")\n",
    "            self.directory[name]={\"Phone number\":phone_number,\"place\":place}\n",
    "            print(f\"Contact '{name}' added successfully.\")\n",
    "        except ValueError as e:\n",
    "            print(f\"Error:{e}\")\n",
    "    def display_directory(self):\n",
    "        print(\"\\nPhoneDirectory:\")\n",
    "        for name,details in self.directory.items():\n",
    "             print(f\"name:{name},phone number:{details['Phone Number']},place:[details['place']]\")\n",
    "if __name__==\"__main__\":\n",
    "    phone_dir=PhoneDirectory()\n",
    "    phone_dir.add_contact(\"ajay Devgan\",1234567890,\"New Delhi\")\n",
    "    phone_dir.add_contact(\"Akshay kumar\",9876543210,\"Amritsar\")\n",
    "    phone_dir.add_contact(\"nikhil puppalwar\",6543210987,\"Pune\")\n",
    "    \n",
    "    phone_dir.display_directory()\n",
    "\n"
   ]
  },
  {
   "cell_type": "code",
   "execution_count": 2,
   "id": "5faaefbd",
   "metadata": {},
   "outputs": [
    {
     "name": "stdout",
     "output_type": "stream",
     "text": [
      "Contact 'ShahRukhKhan' added successfully.\n",
      "Contact 'MS Dhoni' added successfully.\n",
      "Contact 'Sonu Nigam' added successfully.\n",
      "\n",
      "PhoneDirectory:\n",
      "Name: ShahRukhKhan, Phone Number: 1234567890, Place: New Delhi\n",
      "Name: MS Dhoni, Phone Number: 9876543210, Place: Ranchi\n",
      "Name: Sonu Nigam, Phone Number: 6543210987, Place: Mumbai\n"
     ]
    }
   ],
   "source": [
    "class PhoneDirectory:\n",
    "    def __init__(self):\n",
    "        self.directory = {}\n",
    "\n",
    "    def add_contact(self, name, phone_number, place):\n",
    "        try:\n",
    "            if not (isinstance(phone_number, int) and len(str(phone_number)) == 10):\n",
    "                raise ValueError(\"phone number should be 10 digits long.\")\n",
    "            self.directory[name] = {\"Phone Number\": phone_number, \"Place\": place}\n",
    "            print(f\"Contact '{name}' added successfully.\")\n",
    "        except ValueError as e:\n",
    "            print(f\"Error: {e}\")\n",
    "\n",
    "    def display_directory(self):\n",
    "        print(\"\\nPhoneDirectory:\")\n",
    "        for name, details in self.directory.items():\n",
    "            print(f\"Name: {name}, Phone Number: {details['Phone Number']}, Place: {details['Place']}\")\n",
    "\n",
    "if __name__ == \"__main__\":\n",
    "    phone_dir = PhoneDirectory()\n",
    "    phone_dir.add_contact(\"ShahRukhKhan\", 1234567890, \"New Delhi\")\n",
    "    phone_dir.add_contact(\"MS Dhoni\", 9876543210, \"Ranchi\")\n",
    "    phone_dir.add_contact(\"Sonu Nigam\", 6543210987, \"Mumbai\")\n",
    "\n",
    "    phone_dir.display_directory()\n"
   ]
  }
 ],
 "metadata": {
  "kernelspec": {
   "display_name": "Python 3 (ipykernel)",
   "language": "python",
   "name": "python3"
  },
  "language_info": {
   "codemirror_mode": {
    "name": "ipython",
    "version": 3
   },
   "file_extension": ".py",
   "mimetype": "text/x-python",
   "name": "python",
   "nbconvert_exporter": "python",
   "pygments_lexer": "ipython3",
   "version": "3.11.5"
  }
 },
 "nbformat": 4,
 "nbformat_minor": 5
}
