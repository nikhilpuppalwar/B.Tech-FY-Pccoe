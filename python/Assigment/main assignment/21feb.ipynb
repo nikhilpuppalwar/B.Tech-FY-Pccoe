{
 "cells": [
  {
   "cell_type": "code",
   "execution_count": 4,
   "id": "bf8a3cf3",
   "metadata": {},
   "outputs": [
    {
     "name": "stdout",
     "output_type": "stream",
     "text": [
      "enter the first nymber: 10\n",
      "enter the second number: 20\n",
      "the gcd of 10 and 20 is 10\n"
     ]
    }
   ],
   "source": [
    "#write a pyton pythn pragram to find the gcd of given two numbers using recursive function \n",
    "def gcd_recurive(a,b):\n",
    "    if b==0:\n",
    "        return a\n",
    "    else:\n",
    "        return gcd_recurive(b,a%b)\n",
    "#input two numbers fron the user\n",
    "num1=int(input(\"enter the first nymber: \"))\n",
    "num2=int(input(\"enter the second number: \"))\n",
    "\n",
    "#call the gcd_recursive function and print the result \n",
    "result=gcd_recurive(num1,num2)\n",
    "print(f\"the gcd of {num1} and {num2} is {result}\")"
   ]
  },
  {
   "cell_type": "code",
   "execution_count": null,
   "id": "a4544afd",
   "metadata": {},
   "outputs": [],
   "source": []
  }
 ],
 "metadata": {
  "kernelspec": {
   "display_name": "Python 3 (ipykernel)",
   "language": "python",
   "name": "python3"
  },
  "language_info": {
   "codemirror_mode": {
    "name": "ipython",
    "version": 3
   },
   "file_extension": ".py",
   "mimetype": "text/x-python",
   "name": "python",
   "nbconvert_exporter": "python",
   "pygments_lexer": "ipython3",
   "version": "3.11.5"
  }
 },
 "nbformat": 4,
 "nbformat_minor": 5
}
