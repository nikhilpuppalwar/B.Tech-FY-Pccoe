{
 "cells": [
  {
   "cell_type": "code",
   "execution_count": 9,
   "id": "7ffcc463",
   "metadata": {},
   "outputs": [
    {
     "name": "stdout",
     "output_type": "stream",
     "text": [
      "hcf is 10\n"
     ]
    }
   ],
   "source": [
    "# HCF of two numbers using for loop \n",
    "def computer_hcf(x,y):\n",
    "    if (x>y):\n",
    "        smaller=y\n",
    "    else:\n",
    "        smaller=x\n",
    "    for i in range(1,smaller+1):\n",
    "        if(x%i==0 and y%i==0):\n",
    "            hcf=i\n",
    "    return hcf\n",
    "num=10\n",
    "num1=20\n",
    "print(\"hcf is\",computer_hcf(num,num1))"
   ]
  },
  {
   "cell_type": "code",
   "execution_count": 4,
   "id": "eedc475f",
   "metadata": {},
   "outputs": [
    {
     "name": "stdout",
     "output_type": "stream",
     "text": [
      "enter the first number:- 10\n",
      "enter the second number:- 20\n",
      "hcf of 10 and 20 is 10\n"
     ]
    }
   ],
   "source": [
    "#created by me\n",
    "num1=int(input(\"enter the first number:- \"))\n",
    "num2=int(input(\"enter the second number:- \"))\n",
    "\n",
    "\n",
    "def computer_hcf(x,y):\n",
    "    if (x>y):\n",
    "        smaller=y\n",
    "    else:\n",
    "        smaller=x\n",
    "    for i in range(1,smaller+1):\n",
    "        if(x%i==0 and y%i==0):\n",
    "            hcf=i\n",
    "    return hcf\n",
    "num3=computer_hcf(num1,num2)\n",
    "print(\"hcf of {} and {} is {}\".format(num1,num2,num3))"
   ]
  },
  {
   "cell_type": "code",
   "execution_count": null,
   "id": "54533d21",
   "metadata": {},
   "outputs": [],
   "source": [
    "# Hcf useing euclidian algrorithm \n",
    "def computer_hcf(x,y):\n",
    "    while(y):\n",
    "        x,y=y,x%y\n",
    "    return x\n",
    "hcf = computer_hcf(303,606)\n",
    "print(\"the hcf is \",hcf)"
   ]
  },
  {
   "cell_type": "code",
   "execution_count": 8,
   "id": "4b6d19bc",
   "metadata": {},
   "outputs": [
    {
     "name": "stdout",
     "output_type": "stream",
     "text": [
      "enter the first number:- 130\n",
      "enter the second number:- 20\n",
      "20 10 \n",
      "\n",
      "10 0 \n",
      "\n",
      "the hcf is  10\n"
     ]
    }
   ],
   "source": [
    "#created by me euclidian algrorithm \n",
    "num1=int(input(\"enter the first number:- \"))\n",
    "num2=int(input(\"enter the second number:- \")) \n",
    "\n",
    "def computer_hcf(x,y):\n",
    "    while(y):\n",
    "        x,y=y,x%y\n",
    "        print(\"{} {} \\n\".format(x,y))\n",
    "    return x\n",
    "hcf = computer_hcf(num1,num2)\n",
    "print(\"the hcf is \",hcf)"
   ]
  },
  {
   "cell_type": "code",
   "execution_count": 15,
   "id": "a28f1abb",
   "metadata": {},
   "outputs": [
    {
     "name": "stdout",
     "output_type": "stream",
     "text": [
      "the lcm is 30\n"
     ]
    }
   ],
   "source": [
    "def computer_lcm(x,y):\n",
    "    if (x>y):\n",
    "        greatest=x\n",
    "    else:\n",
    "        greatest=y\n",
    "    while True:\n",
    "        if greatest%x==0 and greatest%y==0:\n",
    "            lcm=greatest\n",
    "            break\n",
    "        greatest+=1\n",
    "    return lcm\n",
    "num=10\n",
    "num1=30\n",
    "print(\"the lcm is {}\".format(computer_lcm(num,num1)))"
   ]
  },
  {
   "cell_type": "code",
   "execution_count": 20,
   "id": "b7c27176",
   "metadata": {},
   "outputs": [
    {
     "name": "stdout",
     "output_type": "stream",
     "text": [
      "lcm is 20\n"
     ]
    }
   ],
   "source": [
    "# Hcf useing euclidian algrorithm \n",
    "def computer_hcf(x,y):\n",
    "    while(y):\n",
    "        x,y=y,x%y\n",
    "     \n",
    "    return x\n",
    "def computer_lcm(x,y):\n",
    "    lcm=(x*y)//computer_hcf(x,y)\n",
    "    return lcm\n",
    "\n",
    "num=10\n",
    "num1=20\n",
    "print(\"lcm is\",computer_lcm(num,num1))"
   ]
  },
  {
   "cell_type": "code",
   "execution_count": null,
   "id": "d131830c",
   "metadata": {},
   "outputs": [],
   "source": []
  }
 ],
 "metadata": {
  "kernelspec": {
   "display_name": "Python 3 (ipykernel)",
   "language": "python",
   "name": "python3"
  },
  "language_info": {
   "codemirror_mode": {
    "name": "ipython",
    "version": 3
   },
   "file_extension": ".py",
   "mimetype": "text/x-python",
   "name": "python",
   "nbconvert_exporter": "python",
   "pygments_lexer": "ipython3",
   "version": "3.11.5"
  }
 },
 "nbformat": 4,
 "nbformat_minor": 5
}
