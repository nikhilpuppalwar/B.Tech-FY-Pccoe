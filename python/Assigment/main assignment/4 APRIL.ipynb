{
 "cells": [
  {
   "cell_type": "code",
   "execution_count": 1,
   "id": "0305fecf",
   "metadata": {},
   "outputs": [
    {
     "name": "stdout",
     "output_type": "stream",
     "text": [
      "enter the time in hour: 0\n",
      "enter the time in minutes: 1\n",
      "enter the time in seconds: 10\n",
      "Time Up! The timer can be reset at any time.\n"
     ]
    }
   ],
   "source": [
    "import time \n",
    "import datetime\n",
    "def countdown(h,m,s):\n",
    "    total_seconds = h * 3600 + m*60 +s\n",
    "    while total_seconds > 0:\n",
    "        timer = datetime.timedelta(seconds=total_seconds)\n",
    "        print(timer,end=\"\\r\")\n",
    "        time.sleep(1)\n",
    "        total_seconds-=1\n",
    "    print(\"Time Up! The timer can be reset at any time.\")\n",
    "h =input (\"enter the time in hour: \")\n",
    "m =input (\"enter the time in minutes: \")\n",
    "s =input (\"enter the time in seconds: \")\n",
    "countdown(int(h),int(m),int(s))"
   ]
  },
  {
   "cell_type": "code",
   "execution_count": null,
   "id": "0826ed3b",
   "metadata": {},
   "outputs": [],
   "source": []
  }
 ],
 "metadata": {
  "kernelspec": {
   "display_name": "Python 3 (ipykernel)",
   "language": "python",
   "name": "python3"
  },
  "language_info": {
   "codemirror_mode": {
    "name": "ipython",
    "version": 3
   },
   "file_extension": ".py",
   "mimetype": "text/x-python",
   "name": "python",
   "nbconvert_exporter": "python",
   "pygments_lexer": "ipython3",
   "version": "3.11.5"
  }
 },
 "nbformat": 4,
 "nbformat_minor": 5
}
