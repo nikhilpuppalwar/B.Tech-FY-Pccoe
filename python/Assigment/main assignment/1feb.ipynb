{
 "cells": [
  {
   "cell_type": "code",
   "execution_count": 4,
   "id": "96ec618b",
   "metadata": {},
   "outputs": [
    {
     "name": "stdout",
     "output_type": "stream",
     "text": [
      "{1: 'nikhil', 2: 'athrava', 3: 'sita', 4: 'ram', 5: 'dev'}\n",
      "dev\n"
     ]
    }
   ],
   "source": [
    "# dictioinary\n",
    "names={1:\"nikhil\",2:\"athrava\",3:\"sita\",4:\"ram\",5:\"dev\"}\n",
    "print(names)\n",
    "print(names[5])"
   ]
  },
  {
   "cell_type": "code",
   "execution_count": 9,
   "id": "526cf5b6",
   "metadata": {},
   "outputs": [
    {
     "name": "stdout",
     "output_type": "stream",
     "text": [
      "{'name': ['nikhil', 'atharv', 'kundan', 'sanket', 'swayam', 'shravan'], 'std': ['1', '2', '3', '4', '5', '6'], 'rollno': ['40', '41', '42', '43', '44', '45']}\n",
      "['nikhil', 'atharv', 'kundan', 'sanket', 'swayam', 'shravan']\n"
     ]
    }
   ],
   "source": [
    "list_name=[\"nikhil\",\"atharv\",\"kundan\",\"sanket\",\"swayam\",\"shravan\"]\n",
    "list_std=[\"1\",\"2\",\"3\",\"4\",\"5\",\"6\"]\n",
    "list_rollno=[\"40\",\"41\",\"42\",\"43\",\"44\",\"45\"]\n",
    "dictn={\"name\":list_name,\"std\":list_std,\"rollno\":list_rollno}\n",
    "print(dictn)\n",
    "print(dictn[\"name\"])\n"
   ]
  },
  {
   "cell_type": "code",
   "execution_count": 17,
   "id": "3637cf82",
   "metadata": {},
   "outputs": [
    {
     "name": "stdout",
     "output_type": "stream",
     "text": [
      "enter the number12\n",
      "enter the number12\n",
      "enter the number54\n",
      "enter the number3\n",
      "enter the number3\n",
      "enter the number3\n",
      "{'even': [12, 12, 54], 'odd': [3, 3, 3]}\n"
     ]
    }
   ],
   "source": [
    "\"\"\" Write a program to accept n numbers from the user and store them in the list.\n",
    "    Then create a dictionary consisting of Key:\n",
    "    ‘EVEN’ and ‘ODD’ and values are corresponding even and odd number lists from accepted numbers\"\"\" \n",
    "\n",
    "even=[]\n",
    "odd=[]\n",
    "\n",
    "for i in range(6):\n",
    "    n = int(input(\"enter the number\"))\n",
    "    if  n%2==0:\n",
    "        even.append(n)\n",
    "    else:\n",
    "        odd.append(n)\n",
    "d={}\n",
    "d['even']=even\n",
    "d['odd']=odd\n",
    "print(d)"
   ]
  },
  {
   "cell_type": "code",
   "execution_count": 18,
   "id": "a975cd93",
   "metadata": {},
   "outputs": [],
   "source": [
    "\"\"\"Write a Python program to accept n numbers from the user.\n",
    "Then find the minimum, maximum, and mean values. \n",
    "Write different functions for calculating minimum, maximum, and mean values.\"\"\"\n",
    "import numpy as np\n",
    "n=int(input('enter the number'))\n",
    "nik=np.array([])\n",
    "for x in range(1,n):\n",
    "    int(input(\"enter the \"))\n",
    "    \n",
    "    \n",
    "\n",
    "\n"
   ]
  },
  {
   "cell_type": "code",
   "execution_count": null,
   "id": "a8c13476",
   "metadata": {},
   "outputs": [],
   "source": []
  }
 ],
 "metadata": {
  "kernelspec": {
   "display_name": "Python 3 (ipykernel)",
   "language": "python",
   "name": "python3"
  },
  "language_info": {
   "codemirror_mode": {
    "name": "ipython",
    "version": 3
   },
   "file_extension": ".py",
   "mimetype": "text/x-python",
   "name": "python",
   "nbconvert_exporter": "python",
   "pygments_lexer": "ipython3",
   "version": "3.11.5"
  }
 },
 "nbformat": 4,
 "nbformat_minor": 5
}
