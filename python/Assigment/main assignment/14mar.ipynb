{
 "cells": [
  {
   "cell_type": "code",
   "execution_count": 2,
   "id": "4e433263",
   "metadata": {},
   "outputs": [
    {
     "name": "stdout",
     "output_type": "stream",
     "text": [
      "total characters: 69\n",
      "total words: 14\n",
      "total lines: 5\n",
      "\n",
      "words frequency\n",
      "pccoe: 2\n",
      "student: 1\n",
      "hello: 1\n"
     ]
    }
   ],
   "source": [
    "def count_statistics(file_path, words_to_count):\n",
    "    total_characters = 0\n",
    "    total_words = 0\n",
    "    total_lines = 0\n",
    "    word_frequency = {word: 0 for word in words_to_count}\n",
    "    \n",
    "    with open(file_path, 'r') as file:\n",
    "        for line in file:\n",
    "            total_characters += len(line)\n",
    "            total_words += len(line.split())\n",
    "            total_lines += 1\n",
    "            \n",
    "            for word in words_to_count:\n",
    "                word_frequency[word] += line.lower().count(word.lower())               \n",
    "    return total_characters, total_words, total_lines, word_frequency\n",
    "if __name__ == \"__main__\":\n",
    "    file_path = \"newl.txt\"\n",
    "    words_to_count = [\"pccoe\", \"student\", \"hello\"]\n",
    "    total_chars, total_words, total_lines, word_freq = count_statistics(file_path, words_to_count)\n",
    "    print(f\"total characters: {total_chars}\")\n",
    "    print(f\"total words: {total_words}\")\n",
    "    print(f\"total lines: {total_lines}\")\n",
    "    print(\"\\nwords frequency\")\n",
    "    for word, count in word_freq.items():\n",
    "        print(f\"{word}: {count}\")\n"
   ]
  },
  {
   "cell_type": "code",
   "execution_count": null,
   "id": "ef19a657",
   "metadata": {},
   "outputs": [],
   "source": []
  }
 ],
 "metadata": {
  "kernelspec": {
   "display_name": "Python 3 (ipykernel)",
   "language": "python",
   "name": "python3"
  },
  "language_info": {
   "codemirror_mode": {
    "name": "ipython",
    "version": 3
   },
   "file_extension": ".py",
   "mimetype": "text/x-python",
   "name": "python",
   "nbconvert_exporter": "python",
   "pygments_lexer": "ipython3",
   "version": "3.11.5"
  }
 },
 "nbformat": 4,
 "nbformat_minor": 5
}
