{
 "cells": [
  {
   "cell_type": "code",
   "execution_count": 2,
   "id": "ebb03c47",
   "metadata": {},
   "outputs": [
    {
     "name": "stdout",
     "output_type": "stream",
     "text": [
      "stop words removed. Result saved to output.txt \n"
     ]
    }
   ],
   "source": [
    "stop_words = { 'i', 'me', 'my', 'myself', 'we', 'out', 'ours', 'ourselves', 'you', 'your', 'yours', \n",
    "              'yourself', 'yourselves', 'he', 'him', 'his', 'himself', 'she', 'her', 'herself', 'it', \n",
    "              'itself', 'they', 'them', 'their', 'theirs', 'themselves', 'what', 'which', 'who', 'whom', 'this', 'that'}\n",
    "def remove_stopwords(file_path,output_path):\n",
    "    with open(file_path, 'r') as file:\n",
    "        text = file.read()        \n",
    "        words = text.split()\n",
    "        filtered_words=[word for word in words if word.lower() not in stop_words]\n",
    "        filtered_text=' '.join(filtered_words)\n",
    "        \n",
    "        with open(output_path,'w') as output_file:\n",
    "            output_file.write(filtered_text)\n",
    "            \n",
    "            \n",
    "input_file_path='input.txt'\n",
    "output_file_path='output.txt'\n",
    "\n",
    "remove_stopwords(input_file_path, output_file_path)\n",
    "print(f'stop words removed. Result saved to {output_file_path} ')"
   ]
  },
  {
   "cell_type": "code",
   "execution_count": null,
   "id": "19329c38",
   "metadata": {},
   "outputs": [],
   "source": []
  }
 ],
 "metadata": {
  "kernelspec": {
   "display_name": "Python 3 (ipykernel)",
   "language": "python",
   "name": "python3"
  },
  "language_info": {
   "codemirror_mode": {
    "name": "ipython",
    "version": 3
   },
   "file_extension": ".py",
   "mimetype": "text/x-python",
   "name": "python",
   "nbconvert_exporter": "python",
   "pygments_lexer": "ipython3",
   "version": "3.11.5"
  }
 },
 "nbformat": 4,
 "nbformat_minor": 5
}
