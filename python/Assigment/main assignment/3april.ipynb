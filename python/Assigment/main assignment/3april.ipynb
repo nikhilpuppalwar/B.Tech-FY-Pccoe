{
 "cells": [
  {
   "cell_type": "code",
   "execution_count": 6,
   "id": "73b645cb",
   "metadata": {},
   "outputs": [
    {
     "name": "stdout",
     "output_type": "stream",
     "text": [
      "Sum: 20 + 20j\n",
      "Difference: 0 + 0j\n",
      "Product: 0 + 200j\n",
      "Quotient: 1.0 + 0.0j\n"
     ]
    }
   ],
   "source": [
    "class ComplexCalculator:\n",
    "    def __init__(self, real=0, imag=0): \n",
    "        self.real = real\n",
    "        self.imag = imag\n",
    "\n",
    "    def __add__(self, other):\n",
    "        return ComplexCalculator(self.real + other.real, self.imag + other.imag)\n",
    "    def __sub__(self, other):\n",
    "        return ComplexCalculator(self.real - other.real, self.imag - other.imag)\n",
    "    def __mul__(self, other):\n",
    "        real_part = self.real * other.real - self.imag * other.imag\n",
    "        imag_part = self.real * other.imag + self.imag * other.real\n",
    "        return ComplexCalculator(real_part, imag_part)\n",
    "    def __truediv__(self, other):\n",
    "        denominator = other.real**2 + other.imag**2\n",
    "        real_part = (self.real * other.real + self.imag * other.imag) / denominator\n",
    "        imag_part = (self.imag * other.real - self.real * other.imag) / denominator\n",
    "        return ComplexCalculator(real_part, imag_part)\n",
    "\n",
    "    def __str__(self):\n",
    "        if self.imag >= 0:\n",
    "            return f\"{self.real} + {self.imag}j\"\n",
    "        else:\n",
    "            return f\"{self.real} - {abs(self.imag)}j\"\n",
    "\n",
    "complex_num1 = ComplexCalculator(10, 10)\n",
    "complex_num2 = ComplexCalculator(10, 10)\n",
    "sum_result = complex_num1 + complex_num2\n",
    "difference_result = complex_num1 - complex_num2\n",
    "product_result = complex_num1 * complex_num2\n",
    "quotient_result = complex_num1 / complex_num2\n",
    "print(f\"Sum: {sum_result}\")\n",
    "print(f\"Difference: {difference_result}\")\n",
    "print(f\"Product: {product_result}\")\n",
    "print(f\"Quotient: {quotient_result}\")"
   ]
  },
  {
   "cell_type": "code",
   "execution_count": null,
   "id": "1c41ce93",
   "metadata": {},
   "outputs": [],
   "source": []
  },
  {
   "cell_type": "code",
   "execution_count": null,
   "id": "6143cfcd",
   "metadata": {},
   "outputs": [],
   "source": []
  }
 ],
 "metadata": {
  "kernelspec": {
   "display_name": "Python 3 (ipykernel)",
   "language": "python",
   "name": "python3"
  },
  "language_info": {
   "codemirror_mode": {
    "name": "ipython",
    "version": 3
   },
   "file_extension": ".py",
   "mimetype": "text/x-python",
   "name": "python",
   "nbconvert_exporter": "python",
   "pygments_lexer": "ipython3",
   "version": "3.11.5"
  }
 },
 "nbformat": 4,
 "nbformat_minor": 5
}
