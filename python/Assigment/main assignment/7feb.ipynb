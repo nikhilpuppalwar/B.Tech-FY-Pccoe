{
 "cells": [
  {
   "cell_type": "code",
   "execution_count": 2,
   "id": "3835ced5",
   "metadata": {},
   "outputs": [
    {
     "name": "stdout",
     "output_type": "stream",
     "text": [
      "the factor of 'x' is:- \n",
      "1\n",
      "2\n",
      "3\n",
      "5\n",
      "6\n",
      "10\n",
      "15\n",
      "30\n"
     ]
    }
   ],
   "source": [
    "def print_factors(x):\n",
    "    print(\"the factor of 'x' is:- \")\n",
    "    for i in range(1,x+1):\n",
    "        if(x%i==0):\n",
    "            print(i)\n",
    "num=30\n",
    "print_factors(num)"
   ]
  },
  {
   "cell_type": "code",
   "execution_count": 9,
   "id": "5df28d67",
   "metadata": {},
   "outputs": [
    {
     "name": "stdout",
     "output_type": "stream",
     "text": [
      "The decimal value of 56 is\n",
      "for binary is:- 0b111000\n",
      "for octal is:- 0o70\n",
      "for hexdecimal is:- 0x38\n"
     ]
    }
   ],
   "source": [
    "# convert the decimal number into binary, octal and hexadecimal \n",
    "dec=56\n",
    "print(bin(dec),\"is binary\")\n",
    "print(oct(dec),\"is octal\")\n",
    "print(hex(dec),\"is hexdecimal\")"
   ]
  },
  {
   "cell_type": "code",
   "execution_count": null,
   "id": "b8924be6",
   "metadata": {},
   "outputs": [],
   "source": [
    "# convert the decimal number into binary, octal and hexadecimal \"created by me\"\n",
    "dec=56\n",
    "print(\"The decimal value of {} is\".format(dec))\n",
    "print(\"for binary is:- {}\".format(bin(dec)))\n",
    "print(\"for octal is:- {}\".format(oct(dec)))\n",
    "print(\"for hexdecimal is:- {}\".format(hex(dec)))"
   ]
  },
  {
   "cell_type": "code",
   "execution_count": 25,
   "id": "f2c7b35d",
   "metadata": {},
   "outputs": [
    {
     "name": "stdout",
     "output_type": "stream",
     "text": [
      "sseccus\n",
      "\n",
      "\n",
      "tsebehtmai\n"
     ]
    }
   ],
   "source": [
    "#reversing the string\n",
    "str=\"success\"\n",
    "print(str[::-1])\n",
    "print(\"\\n\")\n",
    "new_str=\"iamthebest\"\n",
    "new_str=\"\".join(reversed(new_str))\n",
    "print(new_str)\n"
   ]
  },
  {
   "cell_type": "code",
   "execution_count": 18,
   "id": "4493d3d8",
   "metadata": {},
   "outputs": [
    {
     "name": "stdout",
     "output_type": "stream",
     "text": [
      "enter your name:- nikhil\n",
      "l\n"
     ]
    }
   ],
   "source": [
    "#\"created by me\"\n",
    "str=input(\"enter your name:- \")\n",
    "print(str[::-1])"
   ]
  },
  {
   "cell_type": "code",
   "execution_count": 36,
   "id": "05c9d7af",
   "metadata": {},
   "outputs": [
    {
     "name": "stdout",
     "output_type": "stream",
     "text": [
      "puppalwar nikhil\n"
     ]
    }
   ],
   "source": [
    "#reversing the word in the senstence \n",
    "string=\"nikhil puppalwar\"\n",
    "s=string.split()[::-1]\n",
    "I=[]\n",
    "for i in s:\n",
    "    I.append(i)\n",
    "print(\" \".join(I))"
   ]
  },
  {
   "cell_type": "code",
   "execution_count": 37,
   "id": "9d86e7f0",
   "metadata": {},
   "outputs": [
    {
     "name": "stdout",
     "output_type": "stream",
     "text": [
      "aaaaa is not symmetrical\n"
     ]
    }
   ],
   "source": [
    "# check wheather the string is symmetrical \n",
    "string=\"amaama\"\n",
    "half=int(len(string)/2)\n",
    "first_string=string[:half]\n",
    "second_string=string[half:]\n",
    "if (first_string==second_string):\n",
    "    print(string,\"is symmetrical\")\n",
    "else:\n",
    "     print(string,\"is not symmetrical\")"
   ]
  },
  {
   "cell_type": "code",
   "execution_count": 40,
   "id": "f23f9c86",
   "metadata": {},
   "outputs": [
    {
     "name": "stdout",
     "output_type": "stream",
     "text": [
      "yes\n"
     ]
    }
   ],
   "source": [
    "def ispalim(s):\n",
    "    return s==s[::-1]\n",
    "s=\"nitin\"\n",
    "chk=ispalim(s)\n",
    "if chk:\n",
    "    print(\"yes\")\n",
    "else:\n",
    "    print(\"no\")"
   ]
  },
  {
   "cell_type": "code",
   "execution_count": null,
   "id": "8e2ec2d6",
   "metadata": {},
   "outputs": [],
   "source": []
  }
 ],
 "metadata": {
  "kernelspec": {
   "display_name": "Python 3 (ipykernel)",
   "language": "python",
   "name": "python3"
  },
  "language_info": {
   "codemirror_mode": {
    "name": "ipython",
    "version": 3
   },
   "file_extension": ".py",
   "mimetype": "text/x-python",
   "name": "python",
   "nbconvert_exporter": "python",
   "pygments_lexer": "ipython3",
   "version": "3.11.5"
  }
 },
 "nbformat": 4,
 "nbformat_minor": 5
}
