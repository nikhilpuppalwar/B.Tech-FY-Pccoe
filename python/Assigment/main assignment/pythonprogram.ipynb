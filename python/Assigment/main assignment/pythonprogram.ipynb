{
 "cells": [
  {
   "cell_type": "code",
   "execution_count": 2,
   "id": "8aa95b7f",
   "metadata": {},
   "outputs": [
    {
     "name": "stdout",
     "output_type": "stream",
     "text": [
      "enter the first number: 100\n",
      "enter the second number: 300\n",
      "the gcd of 100 and 300 is 100\n"
     ]
    }
   ],
   "source": [
    "#write a python pragram to find the gcd of given two numbers using recursive function \n",
    "\n",
    "def gcd_recursive(a,b):\n",
    "    if b==0:\n",
    "        return a\n",
    "    else:\n",
    "        return gcd_recursive(b,a%b)\n",
    "#input two numbers fron the user\n",
    "num1=int(input(\"enter the first number: \"))\n",
    "num2=int(input(\"enter the second number: \"))\n",
    "\n",
    "#call the gcd_recursive function and print the result \n",
    "result=gcd_recursive(num1,num2)\n",
    "print(f\"the gcd of {num1} and {num2} is {result}\")"
   ]
  },
  {
   "cell_type": "code",
   "execution_count": null,
   "id": "b5e90250",
   "metadata": {},
   "outputs": [],
   "source": []
  }
 ],
 "metadata": {
  "kernelspec": {
   "display_name": "Python 3 (ipykernel)",
   "language": "python",
   "name": "python3"
  },
  "language_info": {
   "codemirror_mode": {
    "name": "ipython",
    "version": 3
   },
   "file_extension": ".py",
   "mimetype": "text/x-python",
   "name": "python",
   "nbconvert_exporter": "python",
   "pygments_lexer": "ipython3",
   "version": "3.11.5"
  }
 },
 "nbformat": 4,
 "nbformat_minor": 5
}
