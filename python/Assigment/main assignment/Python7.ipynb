{
 "cells": [
  {
   "cell_type": "code",
   "execution_count": 3,
   "id": "3164f251",
   "metadata": {},
   "outputs": [
    {
     "name": "stdout",
     "output_type": "stream",
     "text": [
      "Area of Circle: 314.1592653589793\n",
      "Area of Rectangle: 120\n"
     ]
    }
   ],
   "source": [
    "import math\n",
    "class Polygon:\n",
    "    def area(self):\n",
    "        pass # This method will be overridden by subclasses\n",
    "class Circle(Polygon):\n",
    "    def __init__(self, radius):\n",
    "        self.radius = radius\n",
    "    def area(self):\n",
    "        return math.pi * self.radius**2\n",
    "class Rectangle(Polygon):\n",
    "    def __init__(self, length, width):\n",
    "        self.length = length\n",
    "        self.width = width\n",
    "    def area(self):\n",
    "        return self.length * self.width\n",
    "def main():\n",
    "    # Creating objects of Circle and Rectangle\n",
    "    circle = Circle(radius=10)\n",
    "    rectangle = Rectangle(length=20, width=6)\n",
    "# Calculating and printing the areas\n",
    "    print(\"Area of Circle:\", circle.area())\n",
    "    print(\"Area of Rectangle:\", rectangle.area())\n",
    "if __name__ == \"__main__\":\n",
    "    main()"
   ]
  },
  {
   "cell_type": "code",
   "execution_count": null,
   "id": "bf4e3a23",
   "metadata": {},
   "outputs": [],
   "source": []
  }
 ],
 "metadata": {
  "kernelspec": {
   "display_name": "Python 3 (ipykernel)",
   "language": "python",
   "name": "python3"
  },
  "language_info": {
   "codemirror_mode": {
    "name": "ipython",
    "version": 3
   },
   "file_extension": ".py",
   "mimetype": "text/x-python",
   "name": "python",
   "nbconvert_exporter": "python",
   "pygments_lexer": "ipython3",
   "version": "3.11.5"
  }
 },
 "nbformat": 4,
 "nbformat_minor": 5
}
