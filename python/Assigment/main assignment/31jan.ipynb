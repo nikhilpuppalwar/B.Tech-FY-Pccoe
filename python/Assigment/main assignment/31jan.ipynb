{
 "cells": [
  {
   "cell_type": "code",
   "execution_count": 17,
   "id": "8dfb9ba2",
   "metadata": {},
   "outputs": [
    {
     "name": "stdout",
     "output_type": "stream",
     "text": [
      "enter the number:- 20\n",
      "the sum of 20 number is 210\n"
     ]
    }
   ],
   "source": [
    "# program for printing sum of nth natural number\n",
    "num=int(input(\"enter the number:- \"))\n",
    "sum=0 \n",
    "for i in range(1,num+1):\n",
    "    sum+=i\n",
    "print(\"the sum of {} number is {}\".format(num,sum))"
   ]
  },
  {
   "cell_type": "code",
   "execution_count": 11,
   "id": "34b02c81",
   "metadata": {},
   "outputs": [
    {
     "name": "stdout",
     "output_type": "stream",
     "text": [
      "enter the sentence:- college2024\n",
      "enter the number from where number you want to swap:- 2\n",
      "2\n",
      "24college20\n"
     ]
    }
   ],
   "source": [
    "# pragram for swaping a string from right \n",
    "string=input(\"enter the sentence:- \")  # taking input from user\n",
    "num= int(input(\"enter the number from where number you want to swap from right:- \"))\n",
    "\n",
    "def rotate_right(string,num):  #function for swaping string\n",
    "    num=num%len(string) \n",
    "    print(num)\n",
    "    return(string[-num:]+string[:-num]) # [-num: to the end] [for start: -num]\n",
    "new_string=rotate_right(string,num)\n",
    "print(new_string)"
   ]
  },
  {
   "cell_type": "code",
   "execution_count": 28,
   "id": "13707332",
   "metadata": {},
   "outputs": [
    {
     "name": "stdout",
     "output_type": "stream",
     "text": [
      "ram\n",
      "3\n",
      "ram\n",
      "laxman\n",
      "sita\n",
      "['ram', 'laxman', 'sita', 'nikhil']\n",
      "['laxman', 'sita', 'nikhil']\n",
      "['laxman', 'nikhil']\n"
     ]
    }
   ],
   "source": [
    "# program for \n",
    "names=[\"ram\",\"laxman\",\"sita\"]\n",
    "x=names[0]\n",
    "print(x)\n",
    "x=len(names)\n",
    "print(x)\n",
    "for i in names:\n",
    "    print(i)\n",
    "names.append(\"nikhil\")\n",
    "print(names)\n",
    "names.pop(0)\n",
    "print(names)\n",
    "names.remove(\"sita\")\n",
    "print(names)"
   ]
  },
  {
   "cell_type": "code",
   "execution_count": 34,
   "id": "40a50d1f",
   "metadata": {},
   "outputs": [
    {
     "name": "stdout",
     "output_type": "stream",
     "text": [
      "[1, 2, 3, 4, 5, 6, 7]\n",
      "[3, 4, 5, 6, 7]\n"
     ]
    }
   ],
   "source": [
    "student_rollno=[1,2,3,4,5,6,7]\n",
    "print(student_rollno)\n",
    "name=student_rollno[2:]\n",
    "print(name)\n",
    "student_rollno.pop(2)\n"
   ]
  },
  {
   "cell_type": "code",
   "execution_count": null,
   "id": "d265a48d",
   "metadata": {},
   "outputs": [],
   "source": []
  },
  {
   "cell_type": "code",
   "execution_count": null,
   "id": "5608ed5d",
   "metadata": {},
   "outputs": [],
   "source": []
  }
 ],
 "metadata": {
  "kernelspec": {
   "display_name": "Python 3 (ipykernel)",
   "language": "python",
   "name": "python3"
  },
  "language_info": {
   "codemirror_mode": {
    "name": "ipython",
    "version": 3
   },
   "file_extension": ".py",
   "mimetype": "text/x-python",
   "name": "python",
   "nbconvert_exporter": "python",
   "pygments_lexer": "ipython3",
   "version": "3.11.5"
  }
 },
 "nbformat": 4,
 "nbformat_minor": 5
}
