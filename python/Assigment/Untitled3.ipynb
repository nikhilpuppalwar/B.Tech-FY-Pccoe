{
 "cells": [
  {
   "cell_type": "code",
   "execution_count": 47,
   "id": "de9f370c",
   "metadata": {},
   "outputs": [
    {
     "name": "stdout",
     "output_type": "stream",
     "text": [
      "['swayam', 'kaivalya', 'vivek', 'tanisqh']\n",
      "4\n",
      "name vijay is not found in list\n"
     ]
    }
   ],
   "source": [
    "name=['nikhil', 'om', 'puppalwar', 'kundan', 'rohan', 'sanket', 'swayam', 'kaivalya', 'vivek', 'tanisqh', 'kartik']\n",
    "print(name[-5:-1])\n",
    "name_index=(name.index('rohan'))\n",
    "print(name_index)\n",
    "try:\n",
    "    vijay_index=name.index('vijay')\n",
    "except:\n",
    "    vijay_index='name vijay is not found in list'\n",
    "print(vijay_index)\n",
    "\n"
   ]
  },
  {
   "cell_type": "code",
   "execution_count": null,
   "id": "352f773b",
   "metadata": {},
   "outputs": [],
   "source": []
  }
 ],
 "metadata": {
  "kernelspec": {
   "display_name": "Python 3 (ipykernel)",
   "language": "python",
   "name": "python3"
  },
  "language_info": {
   "codemirror_mode": {
    "name": "ipython",
    "version": 3
   },
   "file_extension": ".py",
   "mimetype": "text/x-python",
   "name": "python",
   "nbconvert_exporter": "python",
   "pygments_lexer": "ipython3",
   "version": "3.11.5"
  }
 },
 "nbformat": 4,
 "nbformat_minor": 5
}
