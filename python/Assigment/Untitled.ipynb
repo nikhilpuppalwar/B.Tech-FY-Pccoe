{
 "cells": [
  {
   "cell_type": "code",
   "execution_count": 2,
   "id": "5b267b19",
   "metadata": {},
   "outputs": [
    {
     "name": "stdout",
     "output_type": "stream",
     "text": [
      "hekllo world\n"
     ]
    }
   ],
   "source": [
    "print(\"hekllo world\")"
   ]
  },
  {
   "cell_type": "code",
   "execution_count": 3,
   "id": "a3f7a741",
   "metadata": {},
   "outputs": [
    {
     "name": "stdout",
     "output_type": "stream",
     "text": [
      "enter the valuepuppalwar\n",
      "puppalwar\n"
     ]
    }
   ],
   "source": [
    "hi=input(\"enter the value\")\n",
    "print(hi)"
   ]
  },
  {
   "cell_type": "code",
   "execution_count": 8,
   "id": "cb9dd48b",
   "metadata": {},
   "outputs": [
    {
     "name": "stdout",
     "output_type": "stream",
     "text": [
      "good \n"
     ]
    }
   ],
   "source": [
    "aa=\"good morning\"\n",
    "print(aa[0:5])"
   ]
  },
  {
   "cell_type": "code",
   "execution_count": 4,
   "id": "96d2f240",
   "metadata": {},
   "outputs": [
    {
     "name": "stdout",
     "output_type": "stream",
     "text": [
      "True\n"
     ]
    },
    {
     "ename": "AttributeError",
     "evalue": "'bool' object has no attribute 'find'",
     "output_type": "error",
     "traceback": [
      "\u001b[1;31m---------------------------------------------------------------------------\u001b[0m",
      "\u001b[1;31mAttributeError\u001b[0m                            Traceback (most recent call last)",
      "Cell \u001b[1;32mIn[4], line 5\u001b[0m\n\u001b[0;32m      1\u001b[0m multiple \u001b[38;5;241m=\u001b[39m\u001b[38;5;124m\"\u001b[39m\u001b[38;5;124mnikhil\u001b[39m\u001b[38;5;124m\"\u001b[39m \u001b[38;5;129;01min\u001b[39;00m \u001b[38;5;124m'''\u001b[39m\u001b[38;5;124m  nikhil is a good boy \u001b[39m\n\u001b[0;32m      2\u001b[0m \u001b[38;5;124mnow you are doing python \u001b[39m\n\u001b[0;32m      3\u001b[0m \u001b[38;5;124mi like what you are doing\u001b[39m\u001b[38;5;124m'''\u001b[39m\n\u001b[0;32m      4\u001b[0m \u001b[38;5;28mprint\u001b[39m(multiple)\n\u001b[1;32m----> 5\u001b[0m multiple\u001b[38;5;241m.\u001b[39mfind(\u001b[38;5;124m'\u001b[39m\u001b[38;5;124mboy\u001b[39m\u001b[38;5;124m'\u001b[39m)\n",
      "\u001b[1;31mAttributeError\u001b[0m: 'bool' object has no attribute 'find'"
     ]
    }
   ],
   "source": [
    "multiple = '''  nikhil is a good boy \n",
    "now you are doing python \n",
    "i like what you are doing'''\n",
    "print(multiple)\n",
    "multiple.find('boy')"
   ]
  },
  {
   "cell_type": "code",
   "execution_count": 8,
   "id": "1ba472d3",
   "metadata": {},
   "outputs": [
    {
     "name": "stdout",
     "output_type": "stream",
     "text": [
      "0,1,2,3,4,5,6,7,8,"
     ]
    }
   ],
   "source": [
    "for i in range(9):\n",
    "    print(i,end=',')"
   ]
  },
  {
   "cell_type": "code",
   "execution_count": 11,
   "id": "cbb8f162",
   "metadata": {},
   "outputs": [],
   "source": [
    "value = ('hello my name is nikhil')\n",
    "with open(r'file.txt','w') as f:\n",
    "    #for line in f:\n",
    "        #print(line,end='')\n",
    "    n=f.write(value)"
   ]
  },
  {
   "cell_type": "code",
   "execution_count": 4,
   "id": "821a6bd4",
   "metadata": {},
   "outputs": [
    {
     "name": "stdout",
     "output_type": "stream",
     "text": [
      "enter temp. in celisus37\n",
      "The temp. is 98.6\n"
     ]
    }
   ],
   "source": [
    "c= int(input('enter temp. in celisus'))\n",
    "f =c*9/5 + 32\n",
    "print(f\"The temp. is {f}\")"
   ]
  },
  {
   "cell_type": "code",
   "execution_count": 7,
   "id": "c0ecb619",
   "metadata": {},
   "outputs": [
    {
     "name": "stdout",
     "output_type": "stream",
     "text": [
      "72\n",
      "5\n"
     ]
    }
   ],
   "source": [
    "nikhil=[1,2,33,33,3]\n",
    "nik=sum(nikhil)\n",
    "nikh=len(nikhil)\n",
    "print(nik)\n",
    "print(nikh)"
   ]
  },
  {
   "cell_type": "code",
   "execution_count": null,
   "id": "f0f8305d",
   "metadata": {},
   "outputs": [],
   "source": []
  }
 ],
 "metadata": {
  "kernelspec": {
   "display_name": "Python 3 (ipykernel)",
   "language": "python",
   "name": "python3"
  },
  "language_info": {
   "codemirror_mode": {
    "name": "ipython",
    "version": 3
   },
   "file_extension": ".py",
   "mimetype": "text/x-python",
   "name": "python",
   "nbconvert_exporter": "python",
   "pygments_lexer": "ipython3",
   "version": "3.11.5"
  }
 },
 "nbformat": 4,
 "nbformat_minor": 5
}
