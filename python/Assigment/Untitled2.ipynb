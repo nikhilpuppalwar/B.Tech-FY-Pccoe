{
 "cells": [
  {
   "cell_type": "code",
   "execution_count": 11,
   "id": "7beb88a7",
   "metadata": {
    "scrolled": true
   },
   "outputs": [
    {
     "name": "stdout",
     "output_type": "stream",
     "text": [
      "heelo world\n",
      "['dog', 'cat', 'cow', 'bat', ['pig']]\n"
     ]
    }
   ],
   "source": [
    "print(\"heelo world\")\n",
    "animal=['dog','cat','cow','bat']\n",
    "animal.append(['pig'])\n",
    "print(animal)"
   ]
  },
  {
   "cell_type": "code",
   "execution_count": null,
   "id": "0eef13d1",
   "metadata": {},
   "outputs": [],
   "source": []
  }
 ],
 "metadata": {
  "kernelspec": {
   "display_name": "Python 3 (ipykernel)",
   "language": "python",
   "name": "python3"
  },
  "language_info": {
   "codemirror_mode": {
    "name": "ipython",
    "version": 3
   },
   "file_extension": ".py",
   "mimetype": "text/x-python",
   "name": "python",
   "nbconvert_exporter": "python",
   "pygments_lexer": "ipython3",
   "version": "3.11.5"
  }
 },
 "nbformat": 4,
 "nbformat_minor": 5
}
